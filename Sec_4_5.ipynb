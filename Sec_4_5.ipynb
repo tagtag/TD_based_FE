{
  "nbformat": 4,
  "nbformat_minor": 0,
  "metadata": {
    "colab": {
      "name": "Sec_4_5.ipynb",
      "provenance": [],
      "authorship_tag": "ABX9TyNDc4MtvUgNyxS2ctyTLrf5",
      "include_colab_link": true
    },
    "kernelspec": {
      "name": "ir",
      "display_name": "R"
    },
    "language_info": {
      "name": "R"
    }
  },
  "cells": [
    {
      "cell_type": "markdown",
      "metadata": {
        "id": "view-in-github",
        "colab_type": "text"
      },
      "source": [
        "<a href=\"https://colab.research.google.com/github/tagtag/TD_based_FE/blob/master/Sec_4_5.ipynb\" target=\"_parent\"><img src=\"https://colab.research.google.com/assets/colab-badge.svg\" alt=\"Open In Colab\"/></a>"
      ]
    },
    {
      "cell_type": "code",
      "metadata": {
        "colab": {
          "base_uri": "https://localhost:8080/"
        },
        "id": "YgaBKf0MaBVF",
        "outputId": "3b584906-7203-432c-d259-91c4a8f4837f"
      },
      "source": [
        "install.packages(\"diptest\")"
      ],
      "execution_count": 2,
      "outputs": [
        {
          "output_type": "stream",
          "name": "stderr",
          "text": [
            "Installing package into ‘/usr/local/lib/R/site-library’\n",
            "(as ‘lib’ is unspecified)\n",
            "\n"
          ]
        }
      ]
    },
    {
      "cell_type": "markdown",
      "metadata": {
        "id": "e4gkRsrPYtJy"
      },
      "source": [
        "Teble 4.9 (N,M) =(1000,20),(1000,10),(100,20),(100,10)"
      ]
    },
    {
      "cell_type": "code",
      "metadata": {
        "colab": {
          "base_uri": "https://localhost:8080/"
        },
        "id": "g0b2dXbzYrZ7",
        "outputId": "f5df7b4d-8bf2-4787-c31a-6d24bd85b56f"
      },
      "source": [
        "N<-1000\n",
        "M<-10\n",
        "N1<-10\n",
        "require(MASS)\n",
        "require(diptest)\n",
        "t0<-NULL\n",
        "lm0<-NULL\n",
        "pca0<-NULL\n",
        "var0<-NULL\n",
        "dip0<-NULL\n",
        "for (i in c(1:100))\n",
        "{\n",
        "cat(i, \" \")\n",
        "x <- matrix(NA,N,M)\n",
        "x[1:N,1:(M/2)] <- rnorm(N*(M/2))\n",
        "x[1:N,(M/2+1):M] <- rnorm(N*(M/2),4)\n",
        "x[(N1+1):N,]<- apply(x[(N1+1):N,],1,sample) \n",
        "Pt <- apply(x,1,function(x){t.test(x[1:(M/2)],x[(M/2+1):M])$p.value})\n",
        "t_l <- c(1:N)[p.adjust(Pt,\"BH\")<0.01]\n",
        "t0<- cbind(t0,c(sum(1:N1 %in% t_l),sum(!(1:N1 %in% t_l)),sum(!(t_l %in% 1:N1))))\n",
        "pca <- prcomp(x)\n",
        "PP <- pchisq(scale(pca$x[,1])^2,1,lower.tail=F)\n",
        "pca_l <- c(1:N)[p.adjust(PP,\"BH\")<0.01]\n",
        "pca0<- cbind(pca0,c(sum(1:N1 %in% pca_l),sum(!(1:N1 %in% pca_l)),sum(!(pca_l %in% 1:N1))))\n",
        "Pd <- apply(x,1,function(x){dip.test(x)$p.value})\n",
        "dip_l <- c(1:N)[p.adjust(Pd,\"BH\")<0.01]\n",
        "dip0<- cbind(dip0,c(sum(1:N1 %in% dip_l),sum(!(1:N1 %in% dip_l)),sum(!(dip_l %in% 1:N1))))\n",
        "}"
      ],
      "execution_count": 3,
      "outputs": [
        {
          "output_type": "stream",
          "name": "stdout",
          "text": [
            "1  2  3  4  5  6  7  8  9  10  11  12  13  14  15  16  17  18  19  20  21  22  23  24  25  26  27  28  29  30  31  32  33  34  35  36  37  38  39  40  41  42  43  44  45  46  47  48  49  50  51  52  53  54  55  56  57  58  59  60  61  62  63  64  65  66  67  68  69  70  71  72  73  74  75  76  77  78  79  80  81  82  83  84  85  86  87  88  89  90  91  92  93  94  95  96  97  98  99  100  "
          ]
        }
      ]
    },
    {
      "cell_type": "markdown",
      "metadata": {
        "id": "lxNqYPsQZimh"
      },
      "source": [
        "t test"
      ]
    },
    {
      "cell_type": "code",
      "metadata": {
        "colab": {
          "base_uri": "https://localhost:8080/",
          "height": 113
        },
        "id": "_0kvIpzLZh0-",
        "outputId": "977d4616-6864-4ac1-edbc-c2cc664e03bf"
      },
      "source": [
        "matrix(c(rowMeans(t0),N-sum(rowMeans(t0))),2,2)"
      ],
      "execution_count": 6,
      "outputs": [
        {
          "output_type": "display_data",
          "data": {
            "text/plain": [
              "     [,1] [,2]  \n",
              "[1,] 1.05   0.18\n",
              "[2,] 8.95 989.82"
            ],
            "text/latex": "A matrix: 2 × 2 of type dbl\n\\begin{tabular}{ll}\n\t 1.05 &   0.18\\\\\n\t 8.95 & 989.82\\\\\n\\end{tabular}\n",
            "text/markdown": "\nA matrix: 2 × 2 of type dbl\n\n| 1.05 |   0.18 |\n| 8.95 | 989.82 |\n\n",
            "text/html": [
              "<table class=\"dataframe\">\n",
              "<caption>A matrix: 2 × 2 of type dbl</caption>\n",
              "<tbody>\n",
              "\t<tr><td>1.05</td><td>  0.18</td></tr>\n",
              "\t<tr><td>8.95</td><td>989.82</td></tr>\n",
              "</tbody>\n",
              "</table>\n"
            ]
          },
          "metadata": {}
        }
      ]
    },
    {
      "cell_type": "markdown",
      "metadata": {
        "id": "VeduiBZdbe1l"
      },
      "source": [
        "pca"
      ]
    },
    {
      "cell_type": "code",
      "metadata": {
        "colab": {
          "base_uri": "https://localhost:8080/",
          "height": 130
        },
        "id": "8VA5ffvDbiFq",
        "outputId": "c7426ce1-d37e-4354-c982-209b31e89157"
      },
      "source": [
        "matrix(c(rowMeans(pca0),N-sum(rowMeans(pca0))),2,2)"
      ],
      "execution_count": 7,
      "outputs": [
        {
          "output_type": "display_data",
          "data": {
            "text/plain": [
              "     [,1] [,2]\n",
              "[1,]  0     0 \n",
              "[2,] 10   990 "
            ],
            "text/latex": "A matrix: 2 × 2 of type dbl\n\\begin{tabular}{ll}\n\t  0 &   0\\\\\n\t 10 & 990\\\\\n\\end{tabular}\n",
            "text/markdown": "\nA matrix: 2 × 2 of type dbl\n\n|  0 |   0 |\n| 10 | 990 |\n\n",
            "text/html": [
              "<table class=\"dataframe\">\n",
              "<caption>A matrix: 2 × 2 of type dbl</caption>\n",
              "<tbody>\n",
              "\t<tr><td> 0</td><td>  0</td></tr>\n",
              "\t<tr><td>10</td><td>990</td></tr>\n",
              "</tbody>\n",
              "</table>\n"
            ]
          },
          "metadata": {}
        }
      ]
    },
    {
      "cell_type": "markdown",
      "metadata": {
        "id": "OLOnl_cTcE-R"
      },
      "source": [
        "uninodal test"
      ]
    },
    {
      "cell_type": "code",
      "metadata": {
        "colab": {
          "base_uri": "https://localhost:8080/",
          "height": 113
        },
        "id": "Pvmi6TuOcLMP",
        "outputId": "3c46dade-008a-4a57-ddc7-e46cfc6c225e"
      },
      "source": [
        "matrix(c(rowMeans(dip0),N-sum(rowMeans(dip0))),2,2)"
      ],
      "execution_count": 8,
      "outputs": [
        {
          "output_type": "display_data",
          "data": {
            "text/plain": [
              "     [,1] [,2]  \n",
              "[1,]  0     0.01\n",
              "[2,] 10   989.99"
            ],
            "text/latex": "A matrix: 2 × 2 of type dbl\n\\begin{tabular}{ll}\n\t  0 &   0.01\\\\\n\t 10 & 989.99\\\\\n\\end{tabular}\n",
            "text/markdown": "\nA matrix: 2 × 2 of type dbl\n\n|  0 |   0.01 |\n| 10 | 989.99 |\n\n",
            "text/html": [
              "<table class=\"dataframe\">\n",
              "<caption>A matrix: 2 × 2 of type dbl</caption>\n",
              "<tbody>\n",
              "\t<tr><td> 0</td><td>  0.01</td></tr>\n",
              "\t<tr><td>10</td><td>989.99</td></tr>\n",
              "</tbody>\n",
              "</table>\n"
            ]
          },
          "metadata": {}
        }
      ]
    },
    {
      "cell_type": "markdown",
      "metadata": {
        "id": "2nfk12gSZI78"
      },
      "source": [
        "Table 4.10"
      ]
    },
    {
      "cell_type": "code",
      "metadata": {
        "colab": {
          "base_uri": "https://localhost:8080/"
        },
        "id": "B6mqpZPfZPlc",
        "outputId": "f1370375-46f4-4320-bd61-5e5cfab9dc18"
      },
      "source": [
        "N<-1000\n",
        "M<-10\n",
        "N1<-10\n",
        "require(MASS)\n",
        "require(diptest)\n",
        "t0<-NULL\n",
        "lm0<-NULL\n",
        "pca0<-NULL\n",
        "var0<-NULL\n",
        "dip0<-NULL\n",
        "for (i in c(1:100))\n",
        "{\n",
        "cat(i, \" \")\n",
        "x <- matrix(NA,N,M)\n",
        "x[1:N,1:(M/2)] <- rnorm(N*(M/2))\n",
        "x[1:N,(M/2+1):M] <- rnorm(N*(M/2),4)\n",
        "x[(N1+1):N,] <- rnorm((N-N1)*M,2) #2\n",
        "Pt <- apply(x,1,function(x){t.test(x[1:(M/2)],x[(M/2+1):M])$p.value})\n",
        "t_l <- c(1:N)[p.adjust(Pt,\"BH\")<0.01]\n",
        "t0<- cbind(t0,c(sum(1:N1 %in% t_l),sum(!(1:N1 %in% t_l)),sum(!(t_l %in% 1:N1))))\n",
        "pca <- prcomp(x)\n",
        "PP <- pchisq(scale(pca$x[,1])^2,1,lower.tail=F)\n",
        "pca_l <- c(1:N)[p.adjust(PP,\"BH\")<0.01]\n",
        "pca0<- cbind(pca0,c(sum(1:N1 %in% pca_l),sum(!(1:N1 %in% pca_l)),sum(!(pca_l %in% 1:N1))))\n",
        "Pd <- apply(x,1,function(x){dip.test(x)$p.value})\n",
        "dip_l <- c(1:N)[p.adjust(Pd,\"BH\")<0.01]\n",
        "dip0<- cbind(dip0,c(sum(1:N1 %in% dip_l),sum(!(1:N1 %in% dip_l)),sum(!(dip_l %in% 1:N1))))\n",
        "}"
      ],
      "execution_count": 9,
      "outputs": [
        {
          "output_type": "stream",
          "name": "stdout",
          "text": [
            "1  2  3  4  5  6  7  8  9  10  11  12  13  14  15  16  17  18  19  20  21  22  23  24  25  26  27  28  29  30  31  32  33  34  35  36  37  38  39  40  41  42  43  44  45  46  47  48  49  50  51  52  53  54  55  56  57  58  59  60  61  62  63  64  65  66  67  68  69  70  71  72  73  74  75  76  77  78  79  80  81  82  83  84  85  86  87  88  89  90  91  92  93  94  95  96  97  98  99  100  "
          ]
        }
      ]
    },
    {
      "cell_type": "markdown",
      "metadata": {
        "id": "g18-n3_PdFB2"
      },
      "source": [
        "t.test"
      ]
    },
    {
      "cell_type": "code",
      "metadata": {
        "colab": {
          "base_uri": "https://localhost:8080/",
          "height": 113
        },
        "id": "igNfqpHHdC6d",
        "outputId": "2f5a7b3d-a525-4933-d7b0-ca8d19f9cdfd"
      },
      "source": [
        "matrix(c(rowMeans(t0),N-sum(rowMeans(t0))),2,2)"
      ],
      "execution_count": 10,
      "outputs": [
        {
          "output_type": "display_data",
          "data": {
            "text/plain": [
              "     [,1] [,2]  \n",
              "[1,] 0.92   0.01\n",
              "[2,] 9.08 989.99"
            ],
            "text/latex": "A matrix: 2 × 2 of type dbl\n\\begin{tabular}{ll}\n\t 0.92 &   0.01\\\\\n\t 9.08 & 989.99\\\\\n\\end{tabular}\n",
            "text/markdown": "\nA matrix: 2 × 2 of type dbl\n\n| 0.92 |   0.01 |\n| 9.08 | 989.99 |\n\n",
            "text/html": [
              "<table class=\"dataframe\">\n",
              "<caption>A matrix: 2 × 2 of type dbl</caption>\n",
              "<tbody>\n",
              "\t<tr><td>0.92</td><td>  0.01</td></tr>\n",
              "\t<tr><td>9.08</td><td>989.99</td></tr>\n",
              "</tbody>\n",
              "</table>\n"
            ]
          },
          "metadata": {}
        }
      ]
    },
    {
      "cell_type": "markdown",
      "metadata": {
        "id": "zkHJ1JOAdMec"
      },
      "source": [
        "pca"
      ]
    },
    {
      "cell_type": "code",
      "metadata": {
        "colab": {
          "base_uri": "https://localhost:8080/",
          "height": 130
        },
        "id": "8nG_Y2ZUdOCk",
        "outputId": "b56546ba-cd47-4e8d-fdeb-0714e2755639"
      },
      "source": [
        "matrix(c(rowMeans(pca0),N-sum(rowMeans(pca0))),2,2)"
      ],
      "execution_count": 11,
      "outputs": [
        {
          "output_type": "display_data",
          "data": {
            "text/plain": [
              "     [,1] [,2]\n",
              "[1,] 9.32   0 \n",
              "[2,] 0.68 990 "
            ],
            "text/latex": "A matrix: 2 × 2 of type dbl\n\\begin{tabular}{ll}\n\t 9.32 &   0\\\\\n\t 0.68 & 990\\\\\n\\end{tabular}\n",
            "text/markdown": "\nA matrix: 2 × 2 of type dbl\n\n| 9.32 |   0 |\n| 0.68 | 990 |\n\n",
            "text/html": [
              "<table class=\"dataframe\">\n",
              "<caption>A matrix: 2 × 2 of type dbl</caption>\n",
              "<tbody>\n",
              "\t<tr><td>9.32</td><td>  0</td></tr>\n",
              "\t<tr><td>0.68</td><td>990</td></tr>\n",
              "</tbody>\n",
              "</table>\n"
            ]
          },
          "metadata": {}
        }
      ]
    },
    {
      "cell_type": "markdown",
      "metadata": {
        "id": "Bs0k8mVxdSHh"
      },
      "source": [
        "Unimodal test"
      ]
    },
    {
      "cell_type": "code",
      "metadata": {
        "colab": {
          "base_uri": "https://localhost:8080/",
          "height": 130
        },
        "id": "1vAJlNu2dUGj",
        "outputId": "feba18d7-8066-41c3-87d4-33aa4afc5939"
      },
      "source": [
        "matrix(c(rowMeans(dip0),N-sum(rowMeans(dip0))),2,2)"
      ],
      "execution_count": 12,
      "outputs": [
        {
          "output_type": "display_data",
          "data": {
            "text/plain": [
              "     [,1] [,2]\n",
              "[1,]  0     0 \n",
              "[2,] 10   990 "
            ],
            "text/latex": "A matrix: 2 × 2 of type dbl\n\\begin{tabular}{ll}\n\t  0 &   0\\\\\n\t 10 & 990\\\\\n\\end{tabular}\n",
            "text/markdown": "\nA matrix: 2 × 2 of type dbl\n\n|  0 |   0 |\n| 10 | 990 |\n\n",
            "text/html": [
              "<table class=\"dataframe\">\n",
              "<caption>A matrix: 2 × 2 of type dbl</caption>\n",
              "<tbody>\n",
              "\t<tr><td> 0</td><td>  0</td></tr>\n",
              "\t<tr><td>10</td><td>990</td></tr>\n",
              "</tbody>\n",
              "</table>\n"
            ]
          },
          "metadata": {}
        }
      ]
    }
  ]
}